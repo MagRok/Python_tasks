{
 "cells": [
  {
   "cell_type": "markdown",
   "metadata": {},
   "source": [
    "# Task: generate a function, which creates a minesweaper game board with a given number of rows, and columns, and  number of bombs, randomly placed on the board"
   ]
  },
  {
   "cell_type": "code",
   "execution_count": 1,
   "metadata": {
    "collapsed": false
   },
   "outputs": [
    {
     "name": "stdout",
     "output_type": "stream",
     "text": [
      "Size of the board: (6, 5)\n",
      "Indices of mines: [(0, 2), (0, 3), (1, 1), (1, 3), (2, 0), (3, 4), (4, 4), (5, 0), (5, 2)]\n"
     ]
    },
    {
     "data": {
      "image/png": "iVBORw0KGgoAAAANSUhEUgAAAMoAAADuCAYAAAB4WJiIAAAABHNCSVQICAgIfAhkiAAAAAlwSFlz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\nieNSs8WDYAAAAABJRU5ErkJggg==\n",
      "text/plain": [
       "<matplotlib.figure.Figure at 0x7f676676bb00>"
      ]
     },
     "metadata": {},
     "output_type": "display_data"
    },
    {
     "name": "stdout",
     "output_type": "stream",
     "text": [
      "Size of the board: (8, 6)\n",
      "Indices of mines: [(2, 5), (3, 0), (3, 3), (4, 3)]\n"
     ]
    },
    {
     "data": {
      "image/png": "iVBORw0KGgoAAAANSUhEUgAAALgAAADuCAYAAACK5M0tAAAABHNCSVQICAgIfAhkiAAAAAlwSFlz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\nVDyLD3AVAAAAAElFTkSuQmCC\n",
      "text/plain": [
       "<matplotlib.figure.Figure at 0x7f674a098a20>"
      ]
     },
     "metadata": {},
     "output_type": "display_data"
    },
    {
     "name": "stdout",
     "output_type": "stream",
     "text": [
      "Size of the board: (4, 6)\n",
      "Indices of mines: [(0, 3), (0, 5), (1, 0), (1, 2), (1, 3), (1, 5), (2, 1), (2, 3), (3, 1), (3, 5)]\n"
     ]
    },
    {
     "data": {
      "image/png": "iVBORw0KGgoAAAANSUhEUgAAAVsAAADuCAYAAACXv6SfAAAABHNCSVQICAgIfAhkiAAAAAlwSFlz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\nRMQAla2IiAEqWxERA/4P4/1Q2E/ra64AAAAASUVORK5CYII=\n",
      "text/plain": [
       "<matplotlib.figure.Figure at 0x7f674a0a7ef0>"
      ]
     },
     "metadata": {},
     "output_type": "display_data"
    }
   ],
   "source": [
    "import numpy as np\n",
    "import matplotlib\n",
    "import matplotlib.pyplot as plt\n",
    "from matplotlib._png import read_png\n",
    "from matplotlib.offsetbox import  OffsetImage, AnnotationBbox\n",
    "\n",
    "        \n",
    "def CreateBoard(n,m,k):\n",
    "    mojgrid=np.zeros((n,m), dtype=int)\n",
    "    np.put(mojgrid,np.random.choice(n*m,k,replace=False),10) #random allocation of bombs, for example value of bomb=10\n",
    "    print(\"Size of the board: \" + str(mojgrid.shape))\n",
    "    \n",
    "    miny=[]\n",
    "    for i, e in enumerate(mojgrid):\n",
    "        for j , l in enumerate(e):\n",
    "            if l==10:\n",
    "                miny.append((i, j))\n",
    "    print(\"Indices of mines: \" +str(miny))\n",
    "    \n",
    "    def mines_number(a,b):\n",
    "        c=0\n",
    "        if (a-1,b-1)in miny:c+=1\n",
    "        if (a+0, b-1)in miny:c+=1\n",
    "        if (a+1, b-1)in miny:c+=1\n",
    "        if (a-1,b+1)in miny:c+=1\n",
    "        if (a+0, b+1)in miny:c+=1\n",
    "        if (a+1, b+1)in miny:c+=1 \n",
    "        if (a-1, b+0)in miny:c+=1\n",
    "        if (a+1, b+0)in miny:c+=1     \n",
    "        return c\n",
    "\n",
    "    for i, e in enumerate(mojgrid):\n",
    "        for j , l in enumerate(e):\n",
    "            if l!=10:\n",
    "                mojgrid[i][j]=mines_number(i,j)\n",
    "    return mojgrid\n",
    "\n",
    "    print(mojgrid)\n",
    "    \n",
    "def draw(mojgrid):\n",
    "    plt.figure()\n",
    "    im = plt.imshow(mojgrid, cmap=plt.cm.terrain, interpolation='none', alpha=0.7)\n",
    "    ax = plt.gca()\n",
    "\n",
    "    # Add grid lines\n",
    "    for i,e  in enumerate(mojgrid):\n",
    "        for j,l in enumerate(e):\n",
    "            ax.axhline(-.5+i, lw=2, color='k',zorder=3)\n",
    "            ax.axvline(-.5+j, lw=2, color='k',zorder=3) \n",
    "        \n",
    "    # Add value labels \n",
    "    for (j,i),label in np.ndenumerate(mojgrid):\n",
    "        if (label >0) and (label<10):\n",
    "            ax.text(i,j,label,ha='center',va='center')\n",
    "        \n",
    "    #Add bombs \n",
    "    bomb=read_png('/home/kodolamacz/regex/bomba.png')\n",
    "   \n",
    "    # zoom - move image with size \n",
    "    n=mojgrid.size\n",
    "    m=len(mojgrid[0])\n",
    "      \n",
    "    if m>n:\n",
    "        zoomc = int(m) * (1 / (m*n*10))\n",
    "    else:        \n",
    "        zoomc = int(n) * (1 / (m*n*10))\n",
    "        \n",
    "    # create OffsetImage \n",
    "    imagebox = OffsetImage(bomb, zoom=zoomc)\n",
    "\n",
    "    for (jj,ii),v in np.ndenumerate(mojgrid):\n",
    "        if v==10:\n",
    "            xy=[ii,jj]\n",
    "            ab=AnnotationBbox(imagebox, xy,xybox=(1.,-1.),xycoords='data',boxcoords='offset points', frameon=False)\n",
    "            ax.add_artist(ab)\n",
    "    \n",
    "    ax.grid('off')\n",
    "    ax.axis()\n",
    "    ax.set_yticklabels([])\n",
    "    ax.set_xticklabels([])\n",
    "    plt.xticks([])\n",
    "    plt.yticks([])\n",
    "    for axis in ['top','bottom','left','right']:\n",
    "        ax.spines[axis].set_linewidth(2)\n",
    "    return plt.show()\n",
    "\n",
    "\n",
    "draw(CreateBoard(6,5,9))\n",
    "draw(CreateBoard(8,6,4))\n",
    "draw(CreateBoard(4,6,10))"
    "draw(CreateBoard(10,10,10))"
    "draw(CreateBoard(3,12,5))"
   ]
  },
  {
   "cell_type": "code",
   "execution_count": null,
   "metadata": {
    "collapsed": true
   },
   "outputs": [],
   "source": []
  }
 ],
 "metadata": {
  "kernelspec": {
   "display_name": "Python 3",
   "language": "python",
   "name": "python3"
  },
  "language_info": {
   "codemirror_mode": {
    "name": "ipython",
    "version": 3
   },
   "file_extension": ".py",
   "mimetype": "text/x-python",
   "name": "python",
   "nbconvert_exporter": "python",
   "pygments_lexer": "ipython3",
   "version": "3.6.0"
  }
 },
 "nbformat": 4,
 "nbformat_minor": 2
}
