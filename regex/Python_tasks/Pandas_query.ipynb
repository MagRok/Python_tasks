{
 "cells": [
  {
   "cell_type": "code",
   "execution_count": null,
   "metadata": {
    "collapsed": true
   },
   "outputs": [],
   "source": [
    "import pandas as pd\n",
    "import numpy as np\n",
    "import sqlite3\n",
    "import os\n",
    "\n",
    "\n",
    "filenames = ('flights','airports', 'planes', 'airlines', 'weather')\n",
    "pd_base = dict()\n",
    "\n",
    "\n",
    "for fname in filenames:\n",
    "    pd_base[fname] = pd.read_csv('http://www.gagolewski.com/resources/data/nycflights13_{}.csv.gz'.format(fname),\n",
    "        comment = '#', \n",
    "        compression = 'gzip'\n",
    "    )\n",
    "\n",
    "db_name = 'nycflights13.db'\n",
    "con = sqlite3.connect(os.path.join(os.getcwd(), db_name))\n",
    "\n",
    "\n",
    "for fname in filenames:\n",
    "    pd_base[fname].to_sql(fname, con)\n",
    "    locals()['pd_{}'.format(fname)] = pd_base[fname]\n",
    "\n",
    "sql_result = pd.read_sql_query(\"SELECT DISTINCT engine FROM planes\", con)\n",
    "sql_result\n"
   ]
  },
  {
   "cell_type": "code",
   "execution_count": null,
   "metadata": {
    "collapsed": true
   },
   "outputs": [],
   "source": [
    "  #PANDAS\n",
    "cartail= pd_flights[[\"carrier\", \"tailnum\"]].drop_duplicates(subset=[\"carrier\", \"tailnum\"], keep='first')\n",
    "ramka1=pd.merge(pd_planes,cartail, on=\"tailnum\", how='inner')\n",
    "\n",
    "ramka2=pd.merge(ramka1, pd_airlines, on=\"carrier\", how='inner').sort_values(by=['tailnum']).reset_index(drop=True)\n",
    "ramka2.head(10)"
   ]
  },
  {
   "cell_type": "code",
   "execution_count": null,
   "metadata": {
    "collapsed": true
   },
   "outputs": [],
   "source": [
    "flights2=pd_flights[(pd_flights[\"origin\"]=='EWR')].reset_index(drop=True)\n",
    "\n",
    "weather2=pd_weather[(pd_weather[\"origin\"]=='EWR')].groupby(['year','month','day']).\\\n",
    "agg({'temp':'mean','humid':'mean','pressure':'mean'}).reset_index(level=['year','month','day']).\\\n",
    "rename(columns={'temp':'atemp','humid':'ahumid','pressure':'apressure'})\n",
    "\n",
    "ramka3=pd.merge(flights2, weather2, on=['year','month','day'], how='left').\\\n",
    "rename(columns={'atemp':'weather2.atemp','ahumid':'weather2.ahumid','apressure': 'weather2.apressure'})\n",
    "ramka3.head(10)"
   ]
  }
 ],
 "metadata": {
  "kernelspec": {
   "display_name": "Python 3",
   "language": "python",
   "name": "python3"
  },
  "language_info": {
   "codemirror_mode": {
    "name": "ipython",
    "version": 3
   },
   "file_extension": ".py",
   "mimetype": "text/x-python",
   "name": "python",
   "nbconvert_exporter": "python",
   "pygments_lexer": "ipython3",
   "version": "3.6.0"
  }
 },
 "nbformat": 4,
 "nbformat_minor": 2
}
